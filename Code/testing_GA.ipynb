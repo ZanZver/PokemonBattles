{
 "cells": [
  {
   "cell_type": "code",
   "execution_count": 1,
   "metadata": {},
   "outputs": [],
   "source": [
    "import pygad\n",
    "import numpy"
   ]
  },
  {
   "cell_type": "markdown",
   "metadata": {},
   "source": [
    "Given the following function:\n",
    "    y = f(w1:w6) = w1x1 + w2x2 + w3x3 + w4x4 + w5x5 + 6wx6\n",
    "    where (x1,x2,x3,x4,x5,x6)=(4,-2,3.5,5,-11,-4.7) and y=44\n",
    "What are the best values for the 6 weights (w1 to w6)? We are going to use the genetic algorithm to optimize this function."
   ]
  },
  {
   "cell_type": "code",
   "execution_count": 2,
   "metadata": {},
   "outputs": [],
   "source": [
    "function_inputs = [4,-2,3.5,5,-11,-4.7] # Function inputs.\n",
    "desired_output = 44 # Function output."
   ]
  },
  {
   "cell_type": "code",
   "execution_count": 3,
   "metadata": {},
   "outputs": [],
   "source": [
    "def fitness_func(ga_instance, solution, solution_idx):\n",
    "    # Calculating the fitness value of each solution in the current population.\n",
    "    # The fitness function calulates the sum of products between each input and its corresponding weight.\n",
    "    output = numpy.sum(solution*function_inputs)\n",
    "    fitness = 1.0 / numpy.abs(output - desired_output)\n",
    "    return fitness\n",
    "\n",
    "fitness_function = fitness_func"
   ]
  },
  {
   "cell_type": "code",
   "execution_count": 4,
   "metadata": {},
   "outputs": [],
   "source": [
    "num_generations = 100 # Number of generations.\n",
    "num_parents_mating = 7 # Number of solutions to be selected as parents in the mating pool."
   ]
  },
  {
   "cell_type": "markdown",
   "metadata": {},
   "source": [
    "To prepare the initial population, there are 2 ways:\n",
    "1) Prepare it yourself and pass it to the initial_population parameter. This way is useful when the user wants to start the genetic algorithm with a custom initial population.\n",
    "2) Assign valid integer values to the sol_per_pop and num_genes parameters. If the initial_population parameter exists, then the sol_per_pop and num_genes parameters are useless."
   ]
  },
  {
   "cell_type": "code",
   "execution_count": 5,
   "metadata": {},
   "outputs": [],
   "source": [
    "sol_per_pop = 50 # Number of solutions in the population.\n",
    "num_genes = len(function_inputs)"
   ]
  },
  {
   "cell_type": "code",
   "execution_count": 6,
   "metadata": {},
   "outputs": [],
   "source": [
    "last_fitness = 0\n",
    "def callback_generation(ga_instance):\n",
    "    global last_fitness\n",
    "    print(f\"Generation = {ga_instance.generations_completed}\")\n",
    "    print(f\"Fitness    = {ga_instance.best_solution()[1]}\")\n",
    "    print(f\"Change     = {ga_instance.best_solution()[1] - last_fitness}\")\n",
    "    last_fitness = ga_instance.best_solution()[1]"
   ]
  },
  {
   "cell_type": "markdown",
   "metadata": {},
   "source": [
    "Creating an instance of the GA class inside the ga module. Some parameters are initialized within the constructor."
   ]
  },
  {
   "cell_type": "code",
   "execution_count": 7,
   "metadata": {},
   "outputs": [
    {
     "name": "stderr",
     "output_type": "stream",
     "text": [
      "/opt/conda/lib/python3.11/site-packages/pygad/pygad.py:728: UserWarning: The percentage of genes to mutate (mutation_percent_genes=10) resulted in selecting (0) genes. The number of genes to mutate is set to 1 (mutation_num_genes=1).\n",
      "If you do not want to mutate any gene, please set mutation_type=None.\n",
      "  warnings.warn(\n",
      "/opt/conda/lib/python3.11/site-packages/pygad/pygad.py:1139: UserWarning: The 'delay_after_gen' parameter is deprecated starting from PyGAD 3.3.0. To delay or pause the evolution after each generation, assign a callback function/method to the 'on_generation' parameter to adds some time delay.\n",
      "  warnings.warn(\"The 'delay_after_gen' parameter is deprecated starting from PyGAD 3.3.0. To delay or pause the evolution after each generation, assign a callback function/method to the 'on_generation' parameter to adds some time delay.\")\n"
     ]
    }
   ],
   "source": [
    "ga_instance = pygad.GA(num_generations=num_generations,\n",
    "                       num_parents_mating=num_parents_mating, \n",
    "                       fitness_func=fitness_function,\n",
    "                       sol_per_pop=sol_per_pop, \n",
    "                       num_genes=num_genes,\n",
    "                       on_generation=callback_generation)"
   ]
  },
  {
   "cell_type": "markdown",
   "metadata": {},
   "source": [
    "Running the GA to optimize the parameters of the function."
   ]
  },
  {
   "cell_type": "code",
   "execution_count": 8,
   "metadata": {},
   "outputs": [
    {
     "name": "stdout",
     "output_type": "stream",
     "text": [
      "Generation = 1\n",
      "Fitness    = 9.428417051133692\n",
      "Change     = 9.428417051133692\n",
      "Generation = 2\n",
      "Fitness    = 9.428417051133692\n",
      "Change     = 0.0\n",
      "Generation = 3\n",
      "Fitness    = 9.428417051133692\n",
      "Change     = 0.0\n",
      "Generation = 4\n",
      "Fitness    = 9.428417051133692\n",
      "Change     = 0.0\n",
      "Generation = 5\n",
      "Fitness    = 21.036544487276178\n",
      "Change     = 11.608127436142485\n",
      "Generation = 6\n",
      "Fitness    = 21.036544487276178\n",
      "Change     = 0.0\n",
      "Generation = 7\n",
      "Fitness    = 2150.9370332677336\n",
      "Change     = 2129.900488780457\n",
      "Generation = 8\n",
      "Fitness    = 2150.9370332677336\n",
      "Change     = 0.0\n",
      "Generation = 9\n",
      "Fitness    = 2150.9370332677336\n",
      "Change     = 0.0\n",
      "Generation = 10\n",
      "Fitness    = 2150.9370332677336\n",
      "Change     = 0.0\n",
      "Generation = 11\n",
      "Fitness    = 2150.9370332677336\n",
      "Change     = 0.0\n",
      "Generation = 12\n",
      "Fitness    = 2150.9370332677336\n",
      "Change     = 0.0\n",
      "Generation = 13\n",
      "Fitness    = 2150.9370332677336\n",
      "Change     = 0.0\n",
      "Generation = 14\n",
      "Fitness    = 2150.9370332677336\n",
      "Change     = 0.0\n",
      "Generation = 15\n",
      "Fitness    = 2150.9370332677336\n",
      "Change     = 0.0\n",
      "Generation = 16\n",
      "Fitness    = 2150.9370332677336\n",
      "Change     = 0.0\n",
      "Generation = 17\n",
      "Fitness    = 2150.9370332677336\n",
      "Change     = 0.0\n",
      "Generation = 18\n",
      "Fitness    = 2150.9370332677336\n",
      "Change     = 0.0\n",
      "Generation = 19\n",
      "Fitness    = 2150.9370332677336\n",
      "Change     = 0.0\n",
      "Generation = 20\n",
      "Fitness    = 2150.9370332677336\n",
      "Change     = 0.0\n",
      "Generation = 21\n",
      "Fitness    = 2150.9370332677336\n",
      "Change     = 0.0\n",
      "Generation = 22\n",
      "Fitness    = 2150.9370332677336\n",
      "Change     = 0.0\n",
      "Generation = 23\n",
      "Fitness    = 2150.9370332677336\n",
      "Change     = 0.0\n",
      "Generation = 24\n",
      "Fitness    = 2150.9370332677336\n",
      "Change     = 0.0\n",
      "Generation = 25\n",
      "Fitness    = 2150.9370332677336\n",
      "Change     = 0.0\n",
      "Generation = 26\n",
      "Fitness    = 2150.9370332677336\n",
      "Change     = 0.0\n",
      "Generation = 27\n",
      "Fitness    = 2150.9370332677336\n",
      "Change     = 0.0\n",
      "Generation = 28\n",
      "Fitness    = 2150.9370332677336\n",
      "Change     = 0.0\n",
      "Generation = 29\n",
      "Fitness    = 2150.9370332677336\n",
      "Change     = 0.0\n",
      "Generation = 30\n",
      "Fitness    = 2150.9370332677336\n",
      "Change     = 0.0\n",
      "Generation = 31\n",
      "Fitness    = 2150.9370332677336\n",
      "Change     = 0.0\n",
      "Generation = 32\n",
      "Fitness    = 2150.9370332677336\n",
      "Change     = 0.0\n",
      "Generation = 33\n",
      "Fitness    = 2150.9370332677336\n",
      "Change     = 0.0\n",
      "Generation = 34\n",
      "Fitness    = 2150.9370332677336\n",
      "Change     = 0.0\n",
      "Generation = 35\n",
      "Fitness    = 2150.9370332677336\n",
      "Change     = 0.0\n",
      "Generation = 36\n",
      "Fitness    = 2150.9370332677336\n",
      "Change     = 0.0\n",
      "Generation = 37\n",
      "Fitness    = 2150.9370332677336\n",
      "Change     = 0.0\n",
      "Generation = 38\n",
      "Fitness    = 2150.9370332677336\n",
      "Change     = 0.0\n",
      "Generation = 39\n",
      "Fitness    = 2150.9370332677336\n",
      "Change     = 0.0\n",
      "Generation = 40\n",
      "Fitness    = 2150.9370332677336\n",
      "Change     = 0.0\n",
      "Generation = 41\n",
      "Fitness    = 2150.9370332677336\n",
      "Change     = 0.0\n",
      "Generation = 42\n",
      "Fitness    = 2150.9370332677336\n",
      "Change     = 0.0\n",
      "Generation = 43\n",
      "Fitness    = 2150.9370332677336\n",
      "Change     = 0.0\n",
      "Generation = 44\n",
      "Fitness    = 2150.9370332677336\n",
      "Change     = 0.0\n",
      "Generation = 45\n",
      "Fitness    = 2150.9370332677336\n",
      "Change     = 0.0\n",
      "Generation = 46\n",
      "Fitness    = 2150.9370332677336\n",
      "Change     = 0.0\n",
      "Generation = 47\n",
      "Fitness    = 2150.9370332677336\n",
      "Change     = 0.0\n",
      "Generation = 48\n",
      "Fitness    = 2150.9370332677336\n",
      "Change     = 0.0\n",
      "Generation = 49\n",
      "Fitness    = 2150.9370332677336\n",
      "Change     = 0.0\n",
      "Generation = 50\n",
      "Fitness    = 2150.9370332677336\n",
      "Change     = 0.0\n",
      "Generation = 51\n",
      "Fitness    = 2150.9370332677336\n",
      "Change     = 0.0\n",
      "Generation = 52\n",
      "Fitness    = 2150.9370332677336\n",
      "Change     = 0.0\n",
      "Generation = 53\n",
      "Fitness    = 2150.9370332677336\n",
      "Change     = 0.0\n",
      "Generation = 54\n",
      "Fitness    = 2150.9370332677336\n",
      "Change     = 0.0\n",
      "Generation = 55\n",
      "Fitness    = 2150.9370332677336\n",
      "Change     = 0.0\n",
      "Generation = 56\n",
      "Fitness    = 2150.9370332677336\n",
      "Change     = 0.0\n",
      "Generation = 57\n",
      "Fitness    = 2150.9370332677336\n",
      "Change     = 0.0\n",
      "Generation = 58\n",
      "Fitness    = 2150.9370332677336\n",
      "Change     = 0.0\n",
      "Generation = 59\n",
      "Fitness    = 2150.9370332677336\n",
      "Change     = 0.0\n",
      "Generation = 60\n",
      "Fitness    = 2150.9370332677336\n",
      "Change     = 0.0\n",
      "Generation = 61\n",
      "Fitness    = 2150.9370332677336\n",
      "Change     = 0.0\n",
      "Generation = 62\n",
      "Fitness    = 2150.9370332677336\n",
      "Change     = 0.0\n",
      "Generation = 63\n",
      "Fitness    = 2150.9370332677336\n",
      "Change     = 0.0\n",
      "Generation = 64\n",
      "Fitness    = 2150.9370332677336\n",
      "Change     = 0.0\n",
      "Generation = 65\n",
      "Fitness    = 2150.9370332677336\n",
      "Change     = 0.0\n",
      "Generation = 66\n",
      "Fitness    = 2150.9370332677336\n",
      "Change     = 0.0\n",
      "Generation = 67\n",
      "Fitness    = 2150.9370332677336\n",
      "Change     = 0.0\n",
      "Generation = 68\n",
      "Fitness    = 2150.9370332677336\n",
      "Change     = 0.0\n",
      "Generation = 69\n",
      "Fitness    = 2150.9370332677336\n",
      "Change     = 0.0\n",
      "Generation = 70\n",
      "Fitness    = 2150.9370332677336\n",
      "Change     = 0.0\n",
      "Generation = 71\n",
      "Fitness    = 2301.5952718763724\n",
      "Change     = 150.65823860863884\n",
      "Generation = 72\n",
      "Fitness    = 2301.5952718763724\n",
      "Change     = 0.0\n",
      "Generation = 73\n",
      "Fitness    = 2301.5952718763724\n",
      "Change     = 0.0\n",
      "Generation = 74\n",
      "Fitness    = 2301.5952718763724\n",
      "Change     = 0.0\n",
      "Generation = 75\n",
      "Fitness    = 2301.5952718763724\n",
      "Change     = 0.0\n",
      "Generation = 76\n",
      "Fitness    = 2301.5952718763724\n",
      "Change     = 0.0\n",
      "Generation = 77\n",
      "Fitness    = 2301.5952718763724\n",
      "Change     = 0.0\n",
      "Generation = 78\n",
      "Fitness    = 2301.5952718763724\n",
      "Change     = 0.0\n",
      "Generation = 79\n",
      "Fitness    = 2301.5952718763724\n",
      "Change     = 0.0\n",
      "Generation = 80\n",
      "Fitness    = 2301.5952718763724\n",
      "Change     = 0.0\n",
      "Generation = 81\n",
      "Fitness    = 2301.5952718763724\n",
      "Change     = 0.0\n",
      "Generation = 82\n",
      "Fitness    = 2301.5952718763724\n",
      "Change     = 0.0\n",
      "Generation = 83\n",
      "Fitness    = 2301.5952718763724\n",
      "Change     = 0.0\n",
      "Generation = 84\n",
      "Fitness    = 2301.5952718763724\n",
      "Change     = 0.0\n",
      "Generation = 85\n",
      "Fitness    = 2301.5952718763724\n",
      "Change     = 0.0\n",
      "Generation = 86\n",
      "Fitness    = 2301.5952718763724\n",
      "Change     = 0.0\n",
      "Generation = 87\n",
      "Fitness    = 2301.5952718763724\n",
      "Change     = 0.0\n",
      "Generation = 88\n",
      "Fitness    = 2301.5952718763724\n",
      "Change     = 0.0\n",
      "Generation = 89\n",
      "Fitness    = 2301.5952718763724\n",
      "Change     = 0.0\n",
      "Generation = 90\n",
      "Fitness    = 2301.5952718763724\n",
      "Change     = 0.0\n",
      "Generation = 91\n",
      "Fitness    = 2301.5952718763724\n",
      "Change     = 0.0\n",
      "Generation = 92\n",
      "Fitness    = 2301.5952718763724\n",
      "Change     = 0.0\n",
      "Generation = 93\n",
      "Fitness    = 2301.5952718763724\n",
      "Change     = 0.0\n",
      "Generation = 94\n",
      "Fitness    = 2301.5952718763724\n",
      "Change     = 0.0\n",
      "Generation = 95\n",
      "Fitness    = 2301.5952718763724\n",
      "Change     = 0.0\n",
      "Generation = 96\n",
      "Fitness    = 2301.5952718763724\n",
      "Change     = 0.0\n",
      "Generation = 97\n",
      "Fitness    = 2301.5952718763724\n",
      "Change     = 0.0\n",
      "Generation = 98\n",
      "Fitness    = 2301.5952718763724\n",
      "Change     = 0.0\n",
      "Generation = 99\n",
      "Fitness    = 2301.5952718763724\n",
      "Change     = 0.0\n",
      "Generation = 100\n",
      "Fitness    = 2301.5952718763724\n",
      "Change     = 0.0\n"
     ]
    }
   ],
   "source": [
    "ga_instance.run()"
   ]
  },
  {
   "cell_type": "markdown",
   "metadata": {},
   "source": [
    "After the generations complete, some plots are showed that summarize the how the outputs/fitenss values evolve over generations."
   ]
  },
  {
   "cell_type": "code",
   "execution_count": 9,
   "metadata": {},
   "outputs": [
    {
     "name": "stderr",
     "output_type": "stream",
     "text": [
      "No artists with labels found to put in legend.  Note that artists whose label start with an underscore are ignored when legend() is called with no argument.\n"
     ]
    },
    {
     "data": {
      "image/png": "[encoded data removed]",
      "text/plain": [
       "<Figure size 640x480 with 1 Axes>"
      ]
     },
     "metadata": {},
     "output_type": "display_data"
    },
    {
     "data": {
      "image/png": "[encoded data removed]",
      "text/plain": [
       "<Figure size 640x480 with 1 Axes>"
      ]
     },
     "execution_count": 9,
     "metadata": {},
     "output_type": "execute_result"
    }
   ],
   "source": [
    "ga_instance.plot_fitness()"
   ]
  },
  {
   "cell_type": "markdown",
   "metadata": {},
   "source": [
    "Returning the details of the best solution."
   ]
  },
  {
   "cell_type": "code",
   "execution_count": 10,
   "metadata": {},
   "outputs": [
    {
     "name": "stdout",
     "output_type": "stream",
     "text": [
      "Parameters of the best solution : [-1.49790162 -3.42647688 -0.18983283  0.25156012 -2.77157237 -2.56543328]\n",
      "Fitness value of the best solution = 2301.5952718763724\n",
      "Index of the best solution : 0\n"
     ]
    }
   ],
   "source": [
    "solution, solution_fitness, solution_idx = ga_instance.best_solution()\n",
    "print(f\"Parameters of the best solution : {solution}\")\n",
    "print(f\"Fitness value of the best solution = {solution_fitness}\")\n",
    "print(f\"Index of the best solution : {solution_idx}\")"
   ]
  },
  {
   "cell_type": "code",
   "execution_count": 11,
   "metadata": {},
   "outputs": [
    {
     "name": "stdout",
     "output_type": "stream",
     "text": [
      "Predicted output based on the best solution : 43.99956551874597\n"
     ]
    }
   ],
   "source": [
    "prediction = numpy.sum(numpy.array(function_inputs)*solution)\n",
    "print(f\"Predicted output based on the best solution : {prediction}\")"
   ]
  },
  {
   "cell_type": "code",
   "execution_count": 12,
   "metadata": {},
   "outputs": [
    {
     "name": "stdout",
     "output_type": "stream",
     "text": [
      "Best fitness value reached after 71 generations.\n"
     ]
    }
   ],
   "source": [
    "if ga_instance.best_solution_generation != -1:\n",
    "    print(f\"Best fitness value reached after {ga_instance.best_solution_generation} generations.\")"
   ]
  },
  {
   "cell_type": "markdown",
   "metadata": {},
   "source": [
    "Saving the GA instance."
   ]
  },
  {
   "cell_type": "code",
   "execution_count": 13,
   "metadata": {},
   "outputs": [],
   "source": [
    "filename = 'genetic' # The filename to which the instance is saved. The name is without extension.\n",
    "ga_instance.save(filename=filename)"
   ]
  },
  {
   "cell_type": "markdown",
   "metadata": {},
   "source": [
    "Loading the saved GA instance."
   ]
  },
  {
   "cell_type": "code",
   "execution_count": 14,
   "metadata": {},
   "outputs": [
    {
     "name": "stderr",
     "output_type": "stream",
     "text": [
      "No artists with labels found to put in legend.  Note that artists whose label start with an underscore are ignored when legend() is called with no argument.\n"
     ]
    },
    {
     "data": {
      "image/png": "[encoded data removed]",
      "text/plain": [
       "<Figure size 640x480 with 1 Axes>"
      ]
     },
     "metadata": {},
     "output_type": "display_data"
    },
    {
     "data": {
      "image/png": "[encoded data removed]",
      "text/plain": [
       "<Figure size 640x480 with 1 Axes>"
      ]
     },
     "execution_count": 14,
     "metadata": {},
     "output_type": "execute_result"
    }
   ],
   "source": [
    "loaded_ga_instance = pygad.load(filename=filename)\n",
    "loaded_ga_instance.plot_fitness()"
   ]
  }
 ],
 "metadata": {
  "kernelspec": {
   "display_name": "Python 3 (ipykernel)",
   "language": "python",
   "name": "python3"
  },
  "language_info": {
   "codemirror_mode": {
    "name": "ipython",
    "version": 3
   },
   "file_extension": ".py",
   "mimetype": "text/x-python",
   "name": "python",
   "nbconvert_exporter": "python",
   "pygments_lexer": "ipython3",
   "version": "3.11.7"
  }
 },
 "nbformat": 4,
 "nbformat_minor": 2
}
