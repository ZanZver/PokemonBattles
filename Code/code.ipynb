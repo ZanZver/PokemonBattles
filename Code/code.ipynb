{
 "cells": [
  {
   "cell_type": "code",
   "execution_count": null,
   "id": "86ab47bf-ea6d-4f52-baf5-c2ebe87b5205",
   "metadata": {},
   "outputs": [],
   "source": [
    "# "
   ]
  },
  {
   "cell_type": "markdown",
   "id": "72a45a26-77cd-424a-aba4-a03ab00bb072",
   "metadata": {},
   "source": [
    "# Install libraries"
   ]
  },
  {
   "cell_type": "code",
   "execution_count": 1,
   "id": "9c2afe75-2dda-453b-bab4-87e5f551bd21",
   "metadata": {},
   "outputs": [
    {
     "name": "stdout",
     "output_type": "stream",
     "text": [
      "Requirement already satisfied: pyspark in /usr/local/spark/python (3.5.0)\n",
      "Requirement already satisfied: py4j==0.10.9.7 in /opt/conda/lib/python3.11/site-packages (from pyspark) (0.10.9.7)\n",
      "Requirement already satisfied: matplotlib in /opt/conda/lib/python3.11/site-packages (3.8.2)\n",
      "Requirement already satisfied: contourpy>=1.0.1 in /opt/conda/lib/python3.11/site-packages (from matplotlib) (1.2.0)\n",
      "Requirement already satisfied: cycler>=0.10 in /opt/conda/lib/python3.11/site-packages (from matplotlib) (0.12.1)\n",
      "Requirement already satisfied: fonttools>=4.22.0 in /opt/conda/lib/python3.11/site-packages (from matplotlib) (4.47.2)\n",
      "Requirement already satisfied: kiwisolver>=1.3.1 in /opt/conda/lib/python3.11/site-packages (from matplotlib) (1.4.5)\n",
      "Requirement already satisfied: numpy<2,>=1.21 in /opt/conda/lib/python3.11/site-packages (from matplotlib) (1.26.3)\n",
      "Requirement already satisfied: packaging>=20.0 in /opt/conda/lib/python3.11/site-packages (from matplotlib) (23.2)\n",
      "Requirement already satisfied: pillow>=8 in /opt/conda/lib/python3.11/site-packages (from matplotlib) (10.2.0)\n",
      "Requirement already satisfied: pyparsing>=2.3.1 in /opt/conda/lib/python3.11/site-packages (from matplotlib) (3.1.1)\n",
      "Requirement already satisfied: python-dateutil>=2.7 in /opt/conda/lib/python3.11/site-packages (from matplotlib) (2.8.2)\n",
      "Requirement already satisfied: six>=1.5 in /opt/conda/lib/python3.11/site-packages (from python-dateutil>=2.7->matplotlib) (1.16.0)\n",
      "Requirement already satisfied: pygad in /opt/conda/lib/python3.11/site-packages (3.3.1)\n",
      "Requirement already satisfied: cloudpickle in /opt/conda/lib/python3.11/site-packages (from pygad) (3.0.0)\n",
      "Requirement already satisfied: matplotlib in /opt/conda/lib/python3.11/site-packages (from pygad) (3.8.2)\n",
      "Requirement already satisfied: numpy in /opt/conda/lib/python3.11/site-packages (from pygad) (1.26.3)\n",
      "Requirement already satisfied: contourpy>=1.0.1 in /opt/conda/lib/python3.11/site-packages (from matplotlib->pygad) (1.2.0)\n",
      "Requirement already satisfied: cycler>=0.10 in /opt/conda/lib/python3.11/site-packages (from matplotlib->pygad) (0.12.1)\n",
      "Requirement already satisfied: fonttools>=4.22.0 in /opt/conda/lib/python3.11/site-packages (from matplotlib->pygad) (4.47.2)\n",
      "Requirement already satisfied: kiwisolver>=1.3.1 in /opt/conda/lib/python3.11/site-packages (from matplotlib->pygad) (1.4.5)\n",
      "Requirement already satisfied: packaging>=20.0 in /opt/conda/lib/python3.11/site-packages (from matplotlib->pygad) (23.2)\n",
      "Requirement already satisfied: pillow>=8 in /opt/conda/lib/python3.11/site-packages (from matplotlib->pygad) (10.2.0)\n",
      "Requirement already satisfied: pyparsing>=2.3.1 in /opt/conda/lib/python3.11/site-packages (from matplotlib->pygad) (3.1.1)\n",
      "Requirement already satisfied: python-dateutil>=2.7 in /opt/conda/lib/python3.11/site-packages (from matplotlib->pygad) (2.8.2)\n",
      "Requirement already satisfied: six>=1.5 in /opt/conda/lib/python3.11/site-packages (from python-dateutil>=2.7->matplotlib->pygad) (1.16.0)\n"
     ]
    }
   ],
   "source": [
    "!pip install pyspark\n",
    "!pip install matplotlib\n",
    "!pip3 install pygad"
   ]
  },
  {
   "cell_type": "markdown",
   "id": "48655586-193b-4d3f-b2f1-9458b6614dc3",
   "metadata": {},
   "source": [
    "# Import libraries"
   ]
  },
  {
   "cell_type": "code",
   "execution_count": 2,
   "id": "75d35276-2f9f-405e-991c-ceabf20e97f2",
   "metadata": {},
   "outputs": [],
   "source": [
    "from pyspark.sql import SparkSession, functions as F, SQLContext\n",
    "from pyspark.sql.functions import col\n",
    "import random\n",
    "from IPython.display import display, Image\n",
    "import pygad\n",
    "from pyspark.sql.functions import lower\n",
    "from pyspark.sql.functions import when, lit, col\n",
    "from pyspark.sql.functions import when"
   ]
  },
  {
   "cell_type": "markdown",
   "id": "921defbd-980b-4149-be54-922781836851",
   "metadata": {},
   "source": [
    "# Setup Spark"
   ]
  },
  {
   "cell_type": "code",
   "execution_count": 3,
   "id": "51c8e78b-1b6c-4c08-9be9-ddf985ac827a",
   "metadata": {},
   "outputs": [
    {
     "data": {
      "text/html": [
       "\n",
       "            <div>\n",
       "                <p><b>SparkSession - in-memory</b></p>\n",
       "                \n",
       "        <div>\n",
       "            <p><b>SparkContext</b></p>\n",
       "\n",
       "            <p><a href=\"http://aadc76580905:4040\">Spark UI</a></p>\n",
       "\n",
       "            <dl>\n",
       "              <dt>Version</dt>\n",
       "                <dd><code>v3.5.0</code></dd>\n",
       "              <dt>Master</dt>\n",
       "                <dd><code>local[*]</code></dd>\n",
       "              <dt>AppName</dt>\n",
       "                <dd><code>pyspark-shell</code></dd>\n",
       "            </dl>\n",
       "        </div>\n",
       "        \n",
       "            </div>\n",
       "        "
      ],
      "text/plain": [
       "<pyspark.sql.session.SparkSession at 0x7fb56a1ee7d0>"
      ]
     },
     "execution_count": 3,
     "metadata": {},
     "output_type": "execute_result"
    }
   ],
   "source": [
    "spark = SparkSession.builder.master(\"local[*]\").getOrCreate()\n",
    "spark"
   ]
  },
  {
   "cell_type": "markdown",
   "id": "8a2d31af-56c7-4029-969f-7d01bb96aa05",
   "metadata": {},
   "source": [
    "# Read data"
   ]
  },
  {
   "cell_type": "code",
   "execution_count": 4,
   "id": "38d3f133-5a50-4b86-846f-0eab1874f9ec",
   "metadata": {},
   "outputs": [],
   "source": [
    "df = spark.read.csv(\"../Data/pokemons.csv\", header=True, inferSchema=True)"
   ]
  },
  {
   "cell_type": "code",
   "execution_count": 5,
   "id": "7091f07b",
   "metadata": {},
   "outputs": [],
   "source": [
    "TypeData_df = spark.read.csv(\"../Data/TypeData.csv\", header=True, inferSchema=True)"
   ]
  },
  {
   "cell_type": "markdown",
   "id": "f302a475-706e-417f-8661-386d0f775f62",
   "metadata": {},
   "source": [
    "# Get 3 random pokemon"
   ]
  },
  {
   "cell_type": "code",
   "execution_count": 6,
   "id": "b11b45cf-01b6-4ab1-97e5-7f41c6a1327c",
   "metadata": {},
   "outputs": [],
   "source": [
    "random.seed(42)"
   ]
  },
  {
   "cell_type": "code",
   "execution_count": 7,
   "id": "7688a2e0-4e8a-4c4c-a3ff-6274c46c6905",
   "metadata": {},
   "outputs": [
    {
     "name": "stdout",
     "output_type": "stream",
     "text": [
      "+---+---------+---------+---------------+------------+-----+-------+---+---+---+-----+-----+-----+-----+------+------+--------------------+--------------------+\n",
      "| id|     name|     rank|     generation|evolves_from|type1|  type2| hp|atk|def|spatk|spdef|speed|total|height|weight|           abilities|                desc|\n",
      "+---+---------+---------+---------------+------------+-----+-------+---+---+---+-----+-----+-----+-----+------+------+--------------------+--------------------+\n",
      "|314| illumise| ordinary| generation-iii|     nothing|  bug|   None| 65| 47| 75|   73|   85|   85|  430|     6|   177|oblivious tinted-...|With its sweet ar...|\n",
      "|375|   metang| ordinary| generation-iii|      beldum|steel|psychic| 60| 75|100|   55|   80|   50|  420|    12|  2025|clear-body light-...|When two BELDUM f...|\n",
      "|896|glastrier|legendary|generation-viii|     nothing|  ice|   None|100|145|130|   65|  110|   30|  580|    22|  8000|     chilling-neigh |Glastrier emits i...|\n",
      "+---+---------+---------+---------------+------------+-----+-------+---+---+---+-----+-----+-----+-----+------+------+--------------------+--------------------+\n",
      "\n"
     ]
    }
   ],
   "source": [
    "# Get IDs\n",
    "pokemon_ids = df.select(\"id\").distinct().rdd.map(lambda x: x[0]).collect()\n",
    "\n",
    "# Randomly select 3 unique pokemon_ids\n",
    "random_pokemon_ids = random.sample(pokemon_ids, 3)\n",
    "\n",
    "# Filter the DataFrame based on the randomly selected pokemon_ids\n",
    "random_pokemon = df.filter(col(\"id\").isin(random_pokemon_ids))\n",
    "random_pokemon.show()"
   ]
  },
  {
   "cell_type": "code",
   "execution_count": 8,
   "id": "d1a0038d-6260-4133-8a4e-abcfb7f417d0",
   "metadata": {},
   "outputs": [
    {
     "name": "stdout",
     "output_type": "stream",
     "text": [
      "Opponents pokemons: \n",
      "\n",
      "id: 896\n",
      "name: glastrier\n",
      "rank: legendary\n",
      "generation: generation-viii\n",
      "evolves_from: nothing\n",
      "type1: ice\n",
      "type2: None\n",
      "hp: 100\n",
      "atk: 145\n",
      "def: 130\n",
      "spatk: 65\n",
      "speed: 30\n",
      "abilities: chilling-neigh \n",
      "desc: Glastrier emits intense cold from its hooves. It’s also a \n",
      "\tbelligerent Pokémon—anything it wants, it takes by force. \n"
     ]
    },
    {
     "data": {
      "text/html": [
       "<img src=\"https://assets.pokemon.com/assets/cms2/img/pokedex/full/896.png\"/>"
      ],
      "text/plain": [
       "<IPython.core.display.Image object>"
      ]
     },
     "metadata": {},
     "output_type": "display_data"
    },
    {
     "name": "stdout",
     "output_type": "stream",
     "text": [
      "id: 375\n",
      "name: metang\n",
      "rank: ordinary\n",
      "generation: generation-iii\n",
      "evolves_from: beldum\n",
      "type1: steel\n",
      "type2: psychic\n",
      "hp: 60\n",
      "atk: 75\n",
      "def: 100\n",
      "spatk: 55\n",
      "speed: 50\n",
      "abilities: clear-body light-metal \n",
      "desc: When two BELDUM fuse together, METANG is formed. The brains of \n",
      "\tthe BELDUM are joined by a magnetic nervous system. By linking \n",
      "\tits brains magnetically, this POKéMON generates strong \n",
      "\tpsychokinetic power. \n"
     ]
    },
    {
     "data": {
      "text/html": [
       "<img src=\"https://assets.pokemon.com/assets/cms2/img/pokedex/full/375.png\"/>"
      ],
      "text/plain": [
       "<IPython.core.display.Image object>"
      ]
     },
     "metadata": {},
     "output_type": "display_data"
    },
    {
     "name": "stdout",
     "output_type": "stream",
     "text": [
      "id: 314\n",
      "name: illumise\n",
      "rank: ordinary\n",
      "generation: generation-iii\n",
      "evolves_from: nothing\n",
      "type1: bug\n",
      "type2: None\n",
      "hp: 65\n",
      "atk: 47\n",
      "def: 75\n",
      "spatk: 73\n",
      "speed: 85\n",
      "abilities: oblivious tinted-lens prankster \n",
      "desc: With its sweet aroma, it guides Volbeat to draw signs with light \n",
      "\tin the night sky. \n"
     ]
    },
    {
     "data": {
      "text/html": [
       "<img src=\"https://assets.pokemon.com/assets/cms2/img/pokedex/full/314.png\"/>"
      ],
      "text/plain": [
       "<IPython.core.display.Image object>"
      ]
     },
     "metadata": {},
     "output_type": "display_data"
    }
   ],
   "source": [
    "print(\"Opponents pokemons: \")\n",
    "print()\n",
    "for id in random_pokemon_ids:\n",
    "\n",
    "    # Filter the random_pokemon DataFrame to get the details of the current pokemon_id\n",
    "    pokemon_details = random_pokemon.filter(col(\"id\") == id)\\\n",
    "        .select(\"id\", \"name\", \"rank\", \"generation\", \"evolves_from\", \"type1\", \"type2\", \"hp\", \"atk\", \"def\", \"spatk\", \"speed\", \"abilities\", \"desc\")\\\n",
    "        .first()\n",
    "    \n",
    "    # Print the details in the specified format\n",
    "    print(\"id:\", pokemon_details[\"id\"])\n",
    "    print(\"name:\", pokemon_details[\"name\"])\n",
    "    print(\"rank:\", pokemon_details[\"rank\"])\n",
    "    print(\"generation:\", pokemon_details[\"generation\"])\n",
    "    print(\"evolves_from:\", pokemon_details[\"evolves_from\"])\n",
    "    print(\"type1:\", pokemon_details[\"type1\"])\n",
    "    print(\"type2:\", pokemon_details[\"type2\"])\n",
    "    print(\"hp:\", pokemon_details[\"hp\"])\n",
    "    print(\"atk:\", pokemon_details[\"atk\"])\n",
    "    print(\"def:\", pokemon_details[\"def\"])\n",
    "    print(\"spatk:\", pokemon_details[\"spatk\"])\n",
    "    print(\"speed:\", pokemon_details[\"speed\"])\n",
    "    print(\"abilities:\", pokemon_details[\"abilities\"])\n",
    "    # print(\"desc:\", pokemon_details[\"desc\"])\n",
    "    desc = pokemon_details[\"desc\"]\n",
    "    print(\"desc:\", end=\" \")\n",
    "    char_count = 0\n",
    "    for word in desc.split():\n",
    "        if char_count + len(word) > 64:\n",
    "            print(\"\\n\\t\", end=\"\")\n",
    "            char_count = 0\n",
    "        print(word, end=\" \")\n",
    "        char_count += len(word) + 1  # Add 1 for the space between words\n",
    "    print()\n",
    "\n",
    "    \n",
    "    # Convert the ID to a string with leading zeros if necessary\n",
    "    pokemon_id_str = str(id).zfill(3)\n",
    "\n",
    "    # Generate the URL for the Pokémon image\n",
    "    url = f\"https://assets.pokemon.com/assets/cms2/img/pokedex/full/{pokemon_id_str}.png\"\n",
    "    \n",
    "    # Display the image\n",
    "    display(Image(url=url))\n"
   ]
  },
  {
   "cell_type": "code",
   "execution_count": 9,
   "id": "e2fd4508-c0c9-4c32-96d6-d022a06a930b",
   "metadata": {},
   "outputs": [],
   "source": [
    "\n",
    "def get_n_row(df, number_in_df):\n",
    "    num_rows = df.count()\n",
    "    nth_row_df = df.limit(num_rows).collect()[num_rows - number_in_df]\n",
    "    return spark.createDataFrame([nth_row_df], schema=df.schema)\n",
    "\n",
    "def create(primary_type):\n",
    "    # 1) Locate the type1 in TypeData based on primary_type\n",
    "    TypeData_df_2 = TypeData_df.filter(TypeData_df.Type == primary_type.first()[\"type1\"])\n",
    "    # 2) Shorten df\n",
    "    df_updated = df.select(\"id\", \"name\", \"type1\", \"hp\", \"atk\").withColumn(\"bns\", lit(None))\n",
    "    # 3) Iterate over dataframe\n",
    "    for column in TypeData_df_2.columns:\n",
    "        df_updated = df_updated.withColumn(\"bns\", when(col(\"type1\") == column, TypeData_df_2.first()[column]).otherwise(df_updated[\"bns\"]))\n",
    "    # 4) Multiply value of column type with HP of orignal dataset\n",
    "    return df_updated.withColumn(\"hp\", col(\"hp\") * col(\"bns\")).drop(\"bns\")\n"
   ]
  },
  {
   "cell_type": "code",
   "execution_count": 10,
   "id": "fea306e0",
   "metadata": {},
   "outputs": [],
   "source": [
    "pokemon_1 = get_n_row(df=random_pokemon, number_in_df=1) # returns pyspark dataframe\n",
    "pokemon_2 = get_n_row(df=random_pokemon, number_in_df=2) # returns pyspark dataframe\n",
    "pokemon_3 = get_n_row(df=random_pokemon, number_in_df=3) # returns pyspark dataframe\n",
    "\n",
    "all_enemies_of_pk1 = create(pokemon_1) # returns pyspark dataframe\n",
    "#all_enemies_of_pk1.show()\n",
    "all_enemies_of_pk2 = create(pokemon_2) # returns pyspark dataframe\n",
    "#all_enemies_of_pk2.show()\n",
    "all_enemies_of_pk3 = create(pokemon_3) # returns pyspark dataframe\n",
    "#all_enemies_of_pk3.show()"
   ]
  },
  {
   "cell_type": "code",
   "execution_count": null,
   "id": "6038b7b9",
   "metadata": {},
   "outputs": [],
   "source": []
  },
  {
   "cell_type": "code",
   "execution_count": null,
   "id": "8165cbc9",
   "metadata": {},
   "outputs": [],
   "source": []
  },
  {
   "cell_type": "markdown",
   "id": "c32b05cd-2210-4a64-ad40-25e3c22bada1",
   "metadata": {},
   "source": [
    "# Hill Climbing"
   ]
  },
  {
   "cell_type": "code",
   "execution_count": null,
   "id": "d014e321-87fb-43b8-97c5-f855b9de631c",
   "metadata": {},
   "outputs": [],
   "source": [
    "attributes = ['hp', 'atk', 'def', 'spatk', 'spdef', 'speed']\n",
    "\n",
    "# Calculate the total attribute score for each Pokémon in random_pokemon\n",
    "random_pokemon_attributes = random_pokemon.selectExpr('id', 'hp + atk + def + spatk + spdef + speed AS total_score')\n",
    "\n",
    "# Iterate through each attribute and compare with pokemon_df to find the top competitors\n",
    "top_competitors = df\n",
    "for attr in attributes:\n",
    "    top_competitors = top_competitors.join(random_pokemon_attributes, random_pokemon_attributes.id == top_competitors.id, 'inner') \\\n",
    "                                     .withColumn('max_' + attr, col('df.' + attr) > col('random_pokemon_attributes.' + attr)) \\\n",
    "                                     .filter(col('max_' + attr) == True) \\\n",
    "                                     .drop('max_' + attr, 'random_pokemon_attributes.id')\n",
    "\n",
    "# Show the top competitors\n",
    "top_competitors.show()"
   ]
  },
  {
   "cell_type": "code",
   "execution_count": null,
   "id": "423279b8-5379-4ec4-9f0a-8fac085858ad",
   "metadata": {},
   "outputs": [],
   "source": []
  },
  {
   "cell_type": "code",
   "execution_count": null,
   "id": "c0f71875-a002-4839-8695-4723a81b3af4",
   "metadata": {},
   "outputs": [],
   "source": []
  },
  {
   "cell_type": "code",
   "execution_count": null,
   "id": "d868562b-bdaf-4f47-9ce3-f550f4dab1f8",
   "metadata": {},
   "outputs": [],
   "source": [
    "# Import necessary libraries\n",
    "from pyspark import SparkContext\n",
    "import matplotlib.pyplot as plt\n",
    "import numpy as np"
   ]
  },
  {
   "cell_type": "code",
   "execution_count": null,
   "id": "db2c969e-80bc-418a-97c8-250cc11d6cb4",
   "metadata": {},
   "outputs": [],
   "source": [
    "def hill_climbing(f, x0, iter=1000):\n",
    "    x = x0  # initial solution\n",
    "    cur_iter = 0\n",
    "    while iter >= cur_iter:\n",
    "        # print(f\"cur_iter: {cur_iter}, best: {x}\")\n",
    "        neighbors = generate_neighbors(x)  # generate neighbors of x\n",
    "        # find the neighbor with the highest function value\n",
    "        best_neighbor = max(neighbors, key=f)\n",
    "        if f(best_neighbor) <= f(x):  # if the best neighbor is not better than x, stop\n",
    "            return x, cur_iter\n",
    "        x = best_neighbor  # otherwise, continue with the best neighbor\n",
    "        cur_iter+=1"
   ]
  },
  {
   "cell_type": "code",
   "execution_count": null,
   "id": "bd4de108-1ead-40f8-899a-cd9c70e66bb9",
   "metadata": {},
   "outputs": [],
   "source": [
    "# Define the gradient descent function\n",
    "def gradient_descent(x, learning_rate=0.1, max_iter=1000, tolerance=10E-13):\n",
    "    iteration = 0\n",
    "    while iteration < max_iter:\n",
    "        gradient = 2*x  # Gradient of the quadratic function -2*x\n",
    "        step = learning_rate * gradient\n",
    "        x -= step\n",
    "        if abs(step) < tolerance:\n",
    "            break\n",
    "        iteration += 1\n",
    "    return x, iteration"
   ]
  },
  {
   "cell_type": "code",
   "execution_count": null,
   "id": "7cf117bb-25c2-44d1-8e35-929f8e571271",
   "metadata": {},
   "outputs": [],
   "source": [
    "# Define the function to optimize\n",
    "def quadratic_function(x):\n",
    "    return -x**2  # example function, we're maximizing, hence the negative sign\n",
    "\n",
    "# Define a function to generate neighbors\n",
    "def generate_neighbors(x):\n",
    "    return [x - 0.1, x, x + 0.1]  # Simple neighbor generation for demonstration"
   ]
  },
  {
   "cell_type": "code",
   "execution_count": null,
   "id": "fa7fc1bd-46b4-4869-b31e-5a27a099b16c",
   "metadata": {},
   "outputs": [],
   "source": [
    "\n",
    "# Run hill climbing\n",
    "initial_solution = 90\n",
    "best_solution, num_of_iter = hill_climbing(quadratic_function, initial_solution)\n",
    "print(f\"Best solution found: {best_solution}, number of iterations: {num_of_iter}\")\n",
    "\n",
    "# Visualize the optimization process\n",
    "x_values = np.linspace(-10, 10, 100)\n",
    "y_values = [quadratic_function(x) for x in x_values]\n",
    "\n",
    "plt.plot(x_values, y_values, label='Function')\n",
    "plt.scatter(best_solution, quadratic_function(best_solution), color='red', label='Optimal Solution')\n",
    "plt.title('Hill Climbing Optimization')\n",
    "plt.xlabel('X')\n",
    "plt.ylabel('Y')\n",
    "plt.legend()\n",
    "plt.grid(True)\n",
    "plt.show()"
   ]
  },
  {
   "cell_type": "code",
   "execution_count": null,
   "id": "212566ed-f55c-4160-b17d-29e4381a27bd",
   "metadata": {},
   "outputs": [],
   "source": [
    "# Run gradient descent\n",
    "initial_solution = 2  # Initial value for gradient descent\n",
    "best_solution, num_of_iter = gradient_descent(initial_solution)\n",
    "print(f\"Best solution found: {best_solution}, number of iterations: {num_of_iter}\")\n",
    "\n",
    "# Visualize the optimization process\n",
    "x_values = np.linspace(-10, 10, 100)\n",
    "y_values = [quadratic_function(x) for x in x_values]\n",
    "\n",
    "plt.plot(x_values, y_values, label='Function')\n",
    "plt.scatter(best_solution_gradient, quadratic_function(best_solution_gradient), color='green', label='Optimal Solution (Gradient Descent)')\n",
    "plt.title('Gradient Descent Optimization')\n",
    "plt.xlabel('X')\n",
    "plt.ylabel('Y')\n",
    "plt.legend()\n",
    "plt.grid(True)\n",
    "plt.show()\n"
   ]
  },
  {
   "cell_type": "code",
   "execution_count": null,
   "id": "5cf88634-77c8-48c3-81ee-07084de26445",
   "metadata": {},
   "outputs": [],
   "source": []
  }
 ],
 "metadata": {
  "kernelspec": {
   "display_name": "Python 3 (ipykernel)",
   "language": "python",
   "name": "python3"
  },
  "language_info": {
   "codemirror_mode": {
    "name": "ipython",
    "version": 3
   },
   "file_extension": ".py",
   "mimetype": "text/x-python",
   "name": "python",
   "nbconvert_exporter": "python",
   "pygments_lexer": "ipython3",
   "version": "3.11.7"
  }
 },
 "nbformat": 4,
 "nbformat_minor": 5
}
