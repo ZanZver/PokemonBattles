{
 "cells": [
  {
   "cell_type": "markdown",
   "id": "72a45a26-77cd-424a-aba4-a03ab00bb072",
   "metadata": {},
   "source": [
    "# Install libraries"
   ]
  },
  {
   "cell_type": "code",
   "execution_count": 1,
   "id": "9c2afe75-2dda-453b-bab4-87e5f551bd21",
   "metadata": {},
   "outputs": [
    {
     "name": "stdout",
     "output_type": "stream",
     "text": [
      "Requirement already satisfied: pyspark in /usr/local/spark/python (3.5.0)\n",
      "Requirement already satisfied: py4j==0.10.9.7 in /opt/conda/lib/python3.11/site-packages (from pyspark) (0.10.9.7)\n",
      "Requirement already satisfied: matplotlib in /opt/conda/lib/python3.11/site-packages (3.8.2)\n",
      "Requirement already satisfied: contourpy>=1.0.1 in /opt/conda/lib/python3.11/site-packages (from matplotlib) (1.2.0)\n",
      "Requirement already satisfied: cycler>=0.10 in /opt/conda/lib/python3.11/site-packages (from matplotlib) (0.12.1)\n",
      "Requirement already satisfied: fonttools>=4.22.0 in /opt/conda/lib/python3.11/site-packages (from matplotlib) (4.47.2)\n",
      "Requirement already satisfied: kiwisolver>=1.3.1 in /opt/conda/lib/python3.11/site-packages (from matplotlib) (1.4.5)\n",
      "Requirement already satisfied: numpy<2,>=1.21 in /opt/conda/lib/python3.11/site-packages (from matplotlib) (1.26.3)\n",
      "Requirement already satisfied: packaging>=20.0 in /opt/conda/lib/python3.11/site-packages (from matplotlib) (23.2)\n",
      "Requirement already satisfied: pillow>=8 in /opt/conda/lib/python3.11/site-packages (from matplotlib) (10.2.0)\n",
      "Requirement already satisfied: pyparsing>=2.3.1 in /opt/conda/lib/python3.11/site-packages (from matplotlib) (3.1.1)\n",
      "Requirement already satisfied: python-dateutil>=2.7 in /opt/conda/lib/python3.11/site-packages (from matplotlib) (2.8.2)\n",
      "Requirement already satisfied: six>=1.5 in /opt/conda/lib/python3.11/site-packages (from python-dateutil>=2.7->matplotlib) (1.16.0)\n",
      "Requirement already satisfied: pygad in /opt/conda/lib/python3.11/site-packages (3.3.1)\n",
      "Requirement already satisfied: cloudpickle in /opt/conda/lib/python3.11/site-packages (from pygad) (3.0.0)\n",
      "Requirement already satisfied: matplotlib in /opt/conda/lib/python3.11/site-packages (from pygad) (3.8.2)\n",
      "Requirement already satisfied: numpy in /opt/conda/lib/python3.11/site-packages (from pygad) (1.26.3)\n",
      "Requirement already satisfied: contourpy>=1.0.1 in /opt/conda/lib/python3.11/site-packages (from matplotlib->pygad) (1.2.0)\n",
      "Requirement already satisfied: cycler>=0.10 in /opt/conda/lib/python3.11/site-packages (from matplotlib->pygad) (0.12.1)\n",
      "Requirement already satisfied: fonttools>=4.22.0 in /opt/conda/lib/python3.11/site-packages (from matplotlib->pygad) (4.47.2)\n",
      "Requirement already satisfied: kiwisolver>=1.3.1 in /opt/conda/lib/python3.11/site-packages (from matplotlib->pygad) (1.4.5)\n",
      "Requirement already satisfied: packaging>=20.0 in /opt/conda/lib/python3.11/site-packages (from matplotlib->pygad) (23.2)\n",
      "Requirement already satisfied: pillow>=8 in /opt/conda/lib/python3.11/site-packages (from matplotlib->pygad) (10.2.0)\n",
      "Requirement already satisfied: pyparsing>=2.3.1 in /opt/conda/lib/python3.11/site-packages (from matplotlib->pygad) (3.1.1)\n",
      "Requirement already satisfied: python-dateutil>=2.7 in /opt/conda/lib/python3.11/site-packages (from matplotlib->pygad) (2.8.2)\n",
      "Requirement already satisfied: six>=1.5 in /opt/conda/lib/python3.11/site-packages (from python-dateutil>=2.7->matplotlib->pygad) (1.16.0)\n"
     ]
    }
   ],
   "source": [
    "!pip install pyspark\n",
    "!pip install matplotlib\n",
    "!pip3 install pygad"
   ]
  },
  {
   "cell_type": "markdown",
   "id": "48655586-193b-4d3f-b2f1-9458b6614dc3",
   "metadata": {},
   "source": [
    "# Import libraries"
   ]
  },
  {
   "cell_type": "code",
   "execution_count": 2,
   "id": "75d35276-2f9f-405e-991c-ceabf20e97f2",
   "metadata": {},
   "outputs": [],
   "source": [
    "from pyspark.sql import SparkSession, functions as F, SQLContext\n",
    "from pyspark.sql.functions import when, lit, col, lower\n",
    "from IPython.display import display, Image\n",
    "from pygad import GA\n",
    "import numpy as np\n",
    "import random"
   ]
  },
  {
   "cell_type": "markdown",
   "id": "921defbd-980b-4149-be54-922781836851",
   "metadata": {},
   "source": [
    "# Setup Spark"
   ]
  },
  {
   "cell_type": "code",
   "execution_count": 3,
   "id": "51c8e78b-1b6c-4c08-9be9-ddf985ac827a",
   "metadata": {},
   "outputs": [
    {
     "data": {
      "text/html": [
       "\n",
       "            <div>\n",
       "                <p><b>SparkSession - in-memory</b></p>\n",
       "                \n",
       "        <div>\n",
       "            <p><b>SparkContext</b></p>\n",
       "\n",
       "            <p><a href=\"http://aadc76580905:4040\">Spark UI</a></p>\n",
       "\n",
       "            <dl>\n",
       "              <dt>Version</dt>\n",
       "                <dd><code>v3.5.0</code></dd>\n",
       "              <dt>Master</dt>\n",
       "                <dd><code>local[*]</code></dd>\n",
       "              <dt>AppName</dt>\n",
       "                <dd><code>pyspark-shell</code></dd>\n",
       "            </dl>\n",
       "        </div>\n",
       "        \n",
       "            </div>\n",
       "        "
      ],
      "text/plain": [
       "<pyspark.sql.session.SparkSession at 0x7f806ebfc110>"
      ]
     },
     "execution_count": 3,
     "metadata": {},
     "output_type": "execute_result"
    }
   ],
   "source": [
    "spark = SparkSession.builder.master(\"local[*]\").getOrCreate()\n",
    "spark"
   ]
  },
  {
   "cell_type": "markdown",
   "id": "8a2d31af-56c7-4029-969f-7d01bb96aa05",
   "metadata": {},
   "source": [
    "# Read data"
   ]
  },
  {
   "cell_type": "code",
   "execution_count": 4,
   "id": "38d3f133-5a50-4b86-846f-0eab1874f9ec",
   "metadata": {},
   "outputs": [],
   "source": [
    "data_path = \"/home/jovyan/work/BCU/ModernOptimisation/Assignment/Data/\"\n",
    "df = spark.read.csv(data_path+\"pokemons.csv\", header=True, inferSchema=True)\n",
    "TypeData_df = spark.read.csv(data_path+\"TypeData.csv\", header=True, inferSchema=True)"
   ]
  },
  {
   "cell_type": "markdown",
   "id": "f302a475-706e-417f-8661-386d0f775f62",
   "metadata": {},
   "source": [
    "# Get 3 random pokemon"
   ]
  },
  {
   "cell_type": "markdown",
   "id": "8fcb2094",
   "metadata": {},
   "source": [
    "### Set seed"
   ]
  },
  {
   "cell_type": "code",
   "execution_count": 5,
   "id": "b11b45cf-01b6-4ab1-97e5-7f41c6a1327c",
   "metadata": {},
   "outputs": [],
   "source": [
    "def set_seed(seed = 42):\n",
    "    return random.seed(seed)\n",
    "\n",
    "set_seed()"
   ]
  },
  {
   "cell_type": "markdown",
   "id": "fd4ab826",
   "metadata": {},
   "source": [
    "### Get 3 random Pokemon IDs"
   ]
  },
  {
   "cell_type": "code",
   "execution_count": 6,
   "id": "7688a2e0-4e8a-4c4c-a3ff-6274c46c6905",
   "metadata": {},
   "outputs": [],
   "source": [
    "# Get IDs\n",
    "pokemon_ids = df.select(\"id\").distinct().rdd.map(lambda x: x[0]).collect()\n",
    "\n",
    "# Randomly select 3 unique pokemon_ids\n",
    "random_pokemon_ids = random.sample(pokemon_ids, 3)\n",
    "\n",
    "# Filter the DataFrame based on the randomly selected pokemon_ids\n",
    "random_pokemon = df.filter(col(\"id\").isin(random_pokemon_ids))\n",
    "#random_pokemon.show()"
   ]
  },
  {
   "cell_type": "markdown",
   "id": "b3d1b5c6",
   "metadata": {},
   "source": [
    "### Display Pokemon information"
   ]
  },
  {
   "cell_type": "code",
   "execution_count": 7,
   "id": "d1a0038d-6260-4133-8a4e-abcfb7f417d0",
   "metadata": {},
   "outputs": [
    {
     "name": "stdout",
     "output_type": "stream",
     "text": [
      "Opponents pokemons: \n",
      "\n",
      "id: 896\n",
      "name: glastrier\n",
      "rank: legendary\n",
      "generation: generation-viii\n",
      "evolves_from: nothing\n",
      "type1: ice\n",
      "type2: None\n",
      "hp: 100\n",
      "atk: 145\n",
      "def: 130\n",
      "spatk: 65\n",
      "speed: 30\n",
      "abilities: chilling-neigh \n",
      "desc: Glastrier emits intense cold from its hooves. It’s also a \n",
      "\tbelligerent Pokémon—anything it wants, it takes by force. \n"
     ]
    },
    {
     "data": {
      "text/html": [
       "<img src=\"https://assets.pokemon.com/assets/cms2/img/pokedex/full/896.png\"/>"
      ],
      "text/plain": [
       "<IPython.core.display.Image object>"
      ]
     },
     "metadata": {},
     "output_type": "display_data"
    },
    {
     "name": "stdout",
     "output_type": "stream",
     "text": [
      "id: 375\n",
      "name: metang\n",
      "rank: ordinary\n",
      "generation: generation-iii\n",
      "evolves_from: beldum\n",
      "type1: steel\n",
      "type2: psychic\n",
      "hp: 60\n",
      "atk: 75\n",
      "def: 100\n",
      "spatk: 55\n",
      "speed: 50\n",
      "abilities: clear-body light-metal \n",
      "desc: When two BELDUM fuse together, METANG is formed. The brains of \n",
      "\tthe BELDUM are joined by a magnetic nervous system. By linking \n",
      "\tits brains magnetically, this POKéMON generates strong \n",
      "\tpsychokinetic power. \n"
     ]
    },
    {
     "data": {
      "text/html": [
       "<img src=\"https://assets.pokemon.com/assets/cms2/img/pokedex/full/375.png\"/>"
      ],
      "text/plain": [
       "<IPython.core.display.Image object>"
      ]
     },
     "metadata": {},
     "output_type": "display_data"
    },
    {
     "name": "stdout",
     "output_type": "stream",
     "text": [
      "id: 314\n",
      "name: illumise\n",
      "rank: ordinary\n",
      "generation: generation-iii\n",
      "evolves_from: nothing\n",
      "type1: bug\n",
      "type2: None\n",
      "hp: 65\n",
      "atk: 47\n",
      "def: 75\n",
      "spatk: 73\n",
      "speed: 85\n",
      "abilities: oblivious tinted-lens prankster \n",
      "desc: With its sweet aroma, it guides Volbeat to draw signs with light \n",
      "\tin the night sky. \n"
     ]
    },
    {
     "data": {
      "text/html": [
       "<img src=\"https://assets.pokemon.com/assets/cms2/img/pokedex/full/314.png\"/>"
      ],
      "text/plain": [
       "<IPython.core.display.Image object>"
      ]
     },
     "metadata": {},
     "output_type": "display_data"
    }
   ],
   "source": [
    "print(\"Opponents pokemons: \")\n",
    "print()\n",
    "for id in random_pokemon_ids:\n",
    "\n",
    "    # Filter the random_pokemon DataFrame to get the details of the current pokemon_id\n",
    "    pokemon_details = random_pokemon.filter(col(\"id\") == id)\\\n",
    "        .select(\"id\", \"name\", \"rank\", \"generation\", \"evolves_from\", \"type1\", \"type2\", \"hp\", \"atk\", \"def\", \"spatk\", \"speed\", \"abilities\", \"desc\")\\\n",
    "        .first()\n",
    "    \n",
    "    # Print the details in the specified format\n",
    "    print(\"id:\", pokemon_details[\"id\"])\n",
    "    print(\"name:\", pokemon_details[\"name\"])\n",
    "    print(\"rank:\", pokemon_details[\"rank\"])\n",
    "    print(\"generation:\", pokemon_details[\"generation\"])\n",
    "    print(\"evolves_from:\", pokemon_details[\"evolves_from\"])\n",
    "    print(\"type1:\", pokemon_details[\"type1\"])\n",
    "    print(\"type2:\", pokemon_details[\"type2\"])\n",
    "    print(\"hp:\", pokemon_details[\"hp\"])\n",
    "    print(\"atk:\", pokemon_details[\"atk\"])\n",
    "    print(\"def:\", pokemon_details[\"def\"])\n",
    "    print(\"spatk:\", pokemon_details[\"spatk\"])\n",
    "    print(\"speed:\", pokemon_details[\"speed\"])\n",
    "    print(\"abilities:\", pokemon_details[\"abilities\"])\n",
    "    # print(\"desc:\", pokemon_details[\"desc\"])\n",
    "    desc = pokemon_details[\"desc\"]\n",
    "    print(\"desc:\", end=\" \")\n",
    "    char_count = 0\n",
    "    for word in desc.split():\n",
    "        if char_count + len(word) > 64:\n",
    "            print(\"\\n\\t\", end=\"\")\n",
    "            char_count = 0\n",
    "        print(word, end=\" \")\n",
    "        char_count += len(word) + 1  # Add 1 for the space between words\n",
    "    print()\n",
    "\n",
    "    \n",
    "    # Convert the ID to a string with leading zeros if necessary\n",
    "    pokemon_id_str = str(id).zfill(3)\n",
    "\n",
    "    # Generate the URL for the Pokémon image\n",
    "    url = f\"https://assets.pokemon.com/assets/cms2/img/pokedex/full/{pokemon_id_str}.png\"\n",
    "    \n",
    "    # Display the image\n",
    "    display(Image(url=url))\n"
   ]
  },
  {
   "cell_type": "markdown",
   "id": "36c46888",
   "metadata": {},
   "source": [
    "### Create df of enemy pokemon and list of opponents"
   ]
  },
  {
   "cell_type": "code",
   "execution_count": 8,
   "id": "e2fd4508-c0c9-4c32-96d6-d022a06a930b",
   "metadata": {},
   "outputs": [],
   "source": [
    "def get_n_row(df, number_in_df):\n",
    "    num_rows = df.count()\n",
    "    nth_row_df = df.limit(num_rows).collect()[num_rows - number_in_df]\n",
    "    return spark.createDataFrame([nth_row_df], schema=df.schema)\n",
    "\n",
    "def create(primary_type):\n",
    "    # 1) Locate the type1 in TypeData based on primary_type\n",
    "    TypeData_df_2 = TypeData_df.filter(TypeData_df.Type == primary_type.first()[\"type1\"])\n",
    "    # 2) Shorten df\n",
    "    df_updated = df.select(\"id\", \"name\", \"type1\", \"hp\", \"atk\").withColumn(\"bns\", lit(None))\n",
    "    # 3) Iterate over dataframe\n",
    "    for column in TypeData_df_2.columns:\n",
    "        df_updated = df_updated.withColumn(\"bns\", when(col(\"type1\") == column, TypeData_df_2.first()[column]).otherwise(df_updated[\"bns\"]))\n",
    "    # 4) Multiply value of column type with HP of orignal dataset\n",
    "    return df_updated.withColumn(\"hp\", col(\"hp\") * col(\"bns\")).drop(\"bns\")\n"
   ]
  },
  {
   "cell_type": "code",
   "execution_count": 9,
   "id": "fea306e0",
   "metadata": {},
   "outputs": [],
   "source": [
    "pokemon_1 = get_n_row(df=random_pokemon, number_in_df=1) # returns pyspark dataframe\n",
    "pokemon_2 = get_n_row(df=random_pokemon, number_in_df=2) # returns pyspark dataframe\n",
    "pokemon_3 = get_n_row(df=random_pokemon, number_in_df=3) # returns pyspark dataframe\n",
    "\n",
    "all_enemies_of_pk1 = create(pokemon_1) # returns pyspark dataframe\n",
    "#all_enemies_of_pk1.show()\n",
    "all_enemies_of_pk2 = create(pokemon_2) # returns pyspark dataframe\n",
    "#all_enemies_of_pk2.show()\n",
    "all_enemies_of_pk3 = create(pokemon_3) # returns pyspark dataframe\n",
    "#all_enemies_of_pk3.show()"
   ]
  },
  {
   "cell_type": "markdown",
   "id": "67cc82c5",
   "metadata": {},
   "source": [
    "# Genetic algorithm"
   ]
  },
  {
   "cell_type": "code",
   "execution_count": 10,
   "id": "e70cdbaa",
   "metadata": {},
   "outputs": [],
   "source": [
    "def regular_ga(df1, df2, seed =42):\n",
    "    #np.random.seed(42)\n",
    "    # Define fitness function\n",
    "    target_stats = df1.select(F.sum(\"hp\") + F.sum(\"atk\")).collect()[0][0]\n",
    "    \n",
    "    def fitness_function(ga_instance, solution, solution_idx):\n",
    "        \"\"\"\n",
    "        Fitness function to evaluate the strength of a Pokemon.\n",
    "        Here, we calculate the total stats (hp + atk) and the closer it is to the target Pokemon, the better.\n",
    "        \"\"\"\n",
    "        total_stats = solution[0] + solution[1]  # hp + atk\n",
    "        return 1 / (abs(total_stats - target_stats) + 0.0001)  # Avoid division by zero\n",
    "\n",
    "    # Create initial population with seed\n",
    "    def create_population():\n",
    "        \"\"\"\n",
    "        Create initial population by randomly selecting Pokemon from df2.\n",
    "        \"\"\"\n",
    "        population = df2.select(\"hp\", \"atk\").collect()\n",
    "        return [[float(p.hp), float(p.atk)] for p in population]\n",
    "\n",
    "    # Initialize genetic algorithm without mutation\n",
    "    ga = GA(num_generations=100,\n",
    "            num_parents_mating=2,\n",
    "            fitness_func=fitness_function,\n",
    "            sol_per_pop=10,\n",
    "            num_genes=2,\n",
    "            gene_type=float,\n",
    "            initial_population=create_population(),\n",
    "            parent_selection_type=\"sss\",\n",
    "            crossover_type=\"single_point\",\n",
    "            mutation_type=None)  # Disable mutation\n",
    "\n",
    "    # Set seed for the genetic algorithm instance\n",
    "    set_seed(seed)\n",
    "    ga.seed = seed\n",
    "\n",
    "    # Run genetic algorithm\n",
    "    ga.run()\n",
    "\n",
    "    # Get the final best solution\n",
    "    best_solution = ga.best_solution()\n",
    "\n",
    "    # Find the Pokemon closest to the best solution\n",
    "    target_stats = np.array(best_solution[0])\n",
    "    df2_stats = np.array(df2.select(\"hp\", \"atk\").collect())\n",
    "    distances = np.linalg.norm(df2_stats - target_stats, axis=1)\n",
    "    closest_pokemon_idx = np.argmin(distances)\n",
    "    closest_pokemon = df2.select(\"name\").collect()[closest_pokemon_idx][0]\n",
    "\n",
    "    print(\"Best Solution:\", best_solution)\n",
    "    print(\"Closest Pokemon to Solution:\", closest_pokemon)\n"
   ]
  },
  {
   "cell_type": "markdown",
   "id": "a73b616f",
   "metadata": {},
   "source": [
    "### Pokemon set 1"
   ]
  },
  {
   "cell_type": "code",
   "execution_count": 11,
   "id": "134af016",
   "metadata": {},
   "outputs": [
    {
     "name": "stderr",
     "output_type": "stream",
     "text": [
      "/opt/conda/lib/python3.11/site-packages/pygad/pygad.py:1139: UserWarning: The 'delay_after_gen' parameter is deprecated starting from PyGAD 3.3.0. To delay or pause the evolution after each generation, assign a callback function/method to the 'on_generation' parameter to adds some time delay.\n",
      "  warnings.warn(\"The 'delay_after_gen' parameter is deprecated starting from PyGAD 3.3.0. To delay or pause the evolution after each generation, assign a callback function/method to the 'on_generation' parameter to adds some time delay.\")\n"
     ]
    },
    {
     "name": "stdout",
     "output_type": "stream",
     "text": [
      "Best Solution: (array([140., 105.]), 10000.0, 0)\n",
      "Closest Pokemon to Solution: lurantis\n"
     ]
    }
   ],
   "source": [
    "regular_ga(pokemon_1.selectExpr(\"id\",\"name\",\"type1\", \"CAST(hp AS INT) AS hp\", \"CAST(atk AS INT) AS atk\"), \n",
    "      all_enemies_of_pk1.selectExpr(\"id\",\"name\",\"type1\", \"CAST(hp AS INT) AS hp\", \"CAST(atk AS INT) AS atk\"),\n",
    "      seed=69\n",
    ")"
   ]
  },
  {
   "cell_type": "markdown",
   "id": "dbf90af4",
   "metadata": {},
   "source": [
    "### Pokemon set 2"
   ]
  },
  {
   "cell_type": "code",
   "execution_count": 12,
   "id": "fc7bbb6d",
   "metadata": {},
   "outputs": [
    {
     "name": "stdout",
     "output_type": "stream",
     "text": [
      "Best Solution: (array([62., 73.]), 10000.0, 0)\n",
      "Closest Pokemon to Solution: raging-bolt\n"
     ]
    }
   ],
   "source": [
    "regular_ga(pokemon_2.selectExpr(\"id\",\"name\",\"type1\", \"CAST(hp AS INT) AS hp\", \"CAST(atk AS INT) AS atk\"), \n",
    "      all_enemies_of_pk2.selectExpr(\"id\",\"name\",\"type1\", \"CAST(hp AS INT) AS hp\", \"CAST(atk AS INT) AS atk\"),\n",
    "      seed=69\n",
    ")"
   ]
  },
  {
   "cell_type": "markdown",
   "id": "8bfa76aa",
   "metadata": {},
   "source": [
    "### Pokemon set 3"
   ]
  },
  {
   "cell_type": "code",
   "execution_count": 13,
   "id": "611c55d8",
   "metadata": {},
   "outputs": [
    {
     "name": "stdout",
     "output_type": "stream",
     "text": [
      "Best Solution: (array([42., 70.]), 10000.0, 0)\n",
      "Closest Pokemon to Solution: noivern\n"
     ]
    }
   ],
   "source": [
    "regular_ga(pokemon_3.selectExpr(\"id\",\"name\",\"type1\", \"CAST(hp AS INT) AS hp\", \"CAST(atk AS INT) AS atk\"), \n",
    "      all_enemies_of_pk3.selectExpr(\"id\",\"name\",\"type1\", \"CAST(hp AS INT) AS hp\", \"CAST(atk AS INT) AS atk\"),\n",
    "      seed=69\n",
    ")"
   ]
  },
  {
   "cell_type": "markdown",
   "id": "fac21a6d",
   "metadata": {},
   "source": [
    "# Genetic algorithm with Monte Carlo"
   ]
  },
  {
   "cell_type": "code",
   "execution_count": 14,
   "id": "a74b6338",
   "metadata": {},
   "outputs": [],
   "source": [
    "def ga_with_mc(df1, df2, seed=42, num_simulations=100):\n",
    "    # Define target stats from df1\n",
    "    target_stats = df1.select(F.sum(\"hp\") + F.sum(\"atk\")).collect()[0][0]\n",
    "    \n",
    "    def fitness_function(ga_instance, solution, solution_idx):\n",
    "        \"\"\"\n",
    "        Fitness function to evaluate the strength of a Pokemon.\n",
    "        Here, we use Monte Carlo simulations to estimate the fitness.\n",
    "        \"\"\"\n",
    "        total_stats = solution[0] + solution[1]  # hp + atk\n",
    "        # Perform Monte Carlo simulations to estimate fitness\n",
    "        return monte_carlo_simulation(total_stats, target_stats, num_simulations)\n",
    "\n",
    "    def create_population():\n",
    "        \"\"\"\n",
    "        Create initial population by randomly selecting Pokemon from df2.\n",
    "        \"\"\"\n",
    "        population = df2.select(\"hp\", \"atk\").collect()\n",
    "        return [[float(p.hp), float(p.atk)] for p in population]\n",
    "\n",
    "    # Initialize genetic algorithm without mutation\n",
    "    ga = GA(num_generations=100,\n",
    "            num_parents_mating=2,\n",
    "            fitness_func=fitness_function,\n",
    "            sol_per_pop=10,\n",
    "            num_genes=2,\n",
    "            gene_type=float,\n",
    "            initial_population=create_population(),\n",
    "            parent_selection_type=\"sss\",\n",
    "            crossover_type=\"single_point\",\n",
    "            mutation_type=None)  # Disable mutation\n",
    "\n",
    "    # Set seed for the genetic algorithm instance\n",
    "    set_seed(seed)\n",
    "    ga.seed = seed\n",
    "\n",
    "    # Run genetic algorithm\n",
    "    ga.run()\n",
    "\n",
    "    # Get the final best solution\n",
    "    best_solution = ga.best_solution()\n",
    "\n",
    "    # Find the Pokemon closest to the best solution\n",
    "    target_stats = np.array(best_solution[0])\n",
    "    df2_stats = np.array(df2.select(\"hp\", \"atk\").collect())\n",
    "    distances = np.linalg.norm(df2_stats - target_stats, axis=1)\n",
    "    closest_pokemon_idx = np.argmin(distances)\n",
    "    closest_pokemon = df2.select(\"name\").collect()[closest_pokemon_idx][0]\n",
    "\n",
    "    print(\"Best Solution:\", best_solution)\n",
    "    print(\"Closest Pokemon to Solution:\", closest_pokemon)\n",
    "\n",
    "def monte_carlo_simulation(total_stats, target_stats, num_simulations):\n",
    "    \"\"\"\n",
    "    Perform Monte Carlo simulations to estimate the fitness.\n",
    "    \"\"\"\n",
    "    total_fitness = 0\n",
    "    for _ in range(num_simulations):\n",
    "        # Generate random perturbation around total_stats\n",
    "        perturbation = np.random.normal(loc=0, scale=0.1, size=1)[0]\n",
    "        simulated_stats = total_stats + perturbation\n",
    "        # Evaluate fitness based on the difference between simulated_stats and target_stats\n",
    "        fitness = 1 / (abs(simulated_stats - target_stats) + 0.0001)  # Avoid division by zero\n",
    "        total_fitness += fitness\n",
    "    # Average fitness over simulations\n",
    "    return total_fitness / num_simulations"
   ]
  },
  {
   "cell_type": "markdown",
   "id": "b91ec9fc",
   "metadata": {},
   "source": [
    "### Pokemon set 1"
   ]
  },
  {
   "cell_type": "code",
   "execution_count": 15,
   "id": "696125eb",
   "metadata": {},
   "outputs": [
    {
     "name": "stdout",
     "output_type": "stream",
     "text": [
      "Best Solution: (array([160.,  85.]), 113.98506935386752, 0)\n",
      "Closest Pokemon to Solution: rhyhorn\n"
     ]
    }
   ],
   "source": [
    "ga_with_mc(pokemon_1.selectExpr(\"id\",\"name\",\"type1\", \"CAST(hp AS INT) AS hp\", \"CAST(atk AS INT) AS atk\"), \n",
    "      all_enemies_of_pk1.selectExpr(\"id\",\"name\",\"type1\", \"CAST(hp AS INT) AS hp\", \"CAST(atk AS INT) AS atk\"),\n",
    "      seed=69\n",
    ")"
   ]
  },
  {
   "cell_type": "markdown",
   "id": "d10fb7c0",
   "metadata": {},
   "source": [
    "### Pokemon set 2"
   ]
  },
  {
   "cell_type": "code",
   "execution_count": 16,
   "id": "70f49c86",
   "metadata": {},
   "outputs": [
    {
     "name": "stdout",
     "output_type": "stream",
     "text": [
      "Best Solution: (array([45., 90.]), 112.10207952561393, 0)\n",
      "Closest Pokemon to Solution: zapdos\n"
     ]
    }
   ],
   "source": [
    "ga_with_mc(pokemon_2.selectExpr(\"id\",\"name\",\"type1\", \"CAST(hp AS INT) AS hp\", \"CAST(atk AS INT) AS atk\"), \n",
    "      all_enemies_of_pk2.selectExpr(\"id\",\"name\",\"type1\", \"CAST(hp AS INT) AS hp\", \"CAST(atk AS INT) AS atk\"),\n",
    "      seed=69\n",
    ")"
   ]
  },
  {
   "cell_type": "markdown",
   "id": "ab4034a5",
   "metadata": {},
   "source": [
    "### Pokemon set 3"
   ]
  },
  {
   "cell_type": "code",
   "execution_count": 17,
   "id": "4b516d93",
   "metadata": {},
   "outputs": [
    {
     "name": "stdout",
     "output_type": "stream",
     "text": [
      "Best Solution: (array([47., 65.]), 97.30532798874296, 0)\n",
      "Closest Pokemon to Solution: sylveon\n"
     ]
    }
   ],
   "source": [
    "ga_with_mc(pokemon_3.selectExpr(\"id\",\"name\",\"type1\", \"CAST(hp AS INT) AS hp\", \"CAST(atk AS INT) AS atk\"), \n",
    "      all_enemies_of_pk3.selectExpr(\"id\",\"name\",\"type1\", \"CAST(hp AS INT) AS hp\", \"CAST(atk AS INT) AS atk\"),\n",
    "      seed=69\n",
    ")"
   ]
  }
 ],
 "metadata": {
  "kernelspec": {
   "display_name": "Python 3 (ipykernel)",
   "language": "python",
   "name": "python3"
  },
  "language_info": {
   "codemirror_mode": {
    "name": "ipython",
    "version": 3
   },
   "file_extension": ".py",
   "mimetype": "text/x-python",
   "name": "python",
   "nbconvert_exporter": "python",
   "pygments_lexer": "ipython3",
   "version": "3.11.7"
  }
 },
 "nbformat": 4,
 "nbformat_minor": 5
}
