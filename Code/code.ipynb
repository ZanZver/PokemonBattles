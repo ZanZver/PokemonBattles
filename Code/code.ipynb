{
 "cells": [
  {
   "cell_type": "markdown",
   "metadata": {},
   "source": [
    "# Virtual environment"
   ]
  },
  {
   "cell_type": "markdown",
   "metadata": {},
   "source": [
    "## Set virtual environment"
   ]
  },
  {
   "cell_type": "code",
   "execution_count": null,
   "metadata": {},
   "outputs": [],
   "source": [
    "!pip install virtualenv"
   ]
  },
  {
   "cell_type": "markdown",
   "metadata": {},
   "source": [
    "## Use virtual environment"
   ]
  },
  {
   "cell_type": "code",
   "execution_count": null,
   "metadata": {},
   "outputs": [],
   "source": [
    "!virtualenv ga_pokemon_battles\n",
    "!source ga_pokemon_battles/bin/activate"
   ]
  },
  {
   "cell_type": "markdown",
   "metadata": {},
   "source": [
    "# Install libraries"
   ]
  },
  {
   "cell_type": "code",
   "execution_count": null,
   "metadata": {},
   "outputs": [],
   "source": [
    "!pip install deap pokebase"
   ]
  },
  {
   "cell_type": "markdown",
   "metadata": {},
   "source": [
    "# Import libraries"
   ]
  },
  {
   "cell_type": "code",
   "execution_count": null,
   "metadata": {},
   "outputs": [],
   "source": [
    "from deap import tools\n",
    "import json\n",
    "import os\n",
    "import random\n",
    "import numpy as np\n",
    "import matplotlib.pyplot as plt\n",
    "import logging\n",
    "import pokebase as pb\n",
    "from pokebase import cache\n",
    "from deap import creator, base, tools, algorithms\n",
    "from functools import partial\n",
    "from concurrent.futures import ThreadPoolExecutor\n",
    "from deap import tools\n",
    "from multiprocessing import Pool\n",
    "import time"
   ]
  },
  {
   "cell_type": "markdown",
   "metadata": {},
   "source": [
    "# Set logic for GA"
   ]
  },
  {
   "cell_type": "code",
   "execution_count": null,
   "metadata": {},
   "outputs": [],
   "source": [
    "cache.API_CACHE\n",
    "\n",
    "# Set up logging\n",
    "logging.basicConfig(level=logging.INFO, format='%(asctime)s - %(levelname)s - %(message)s')\n",
    "\n",
    "def initialize_deap():\n",
    "    \"\"\" Initializes the DEAP creator for fitness and individual. \"\"\"\n",
    "    class_names = [\"FitnessMax\", \"Individual\"]\n",
    "    for class_name in class_names:\n",
    "        if class_name in creator.__dict__:\n",
    "            delattr(creator, class_name)\n",
    "    creator.create(\"FitnessMax\", base.Fitness, weights=(1.0,))\n",
    "    creator.create(\"Individual\", list, fitness=creator.FitnessMax)\n",
    "\n",
    "def fetch_all_pokemon(data_path):\n",
    "    \"\"\" Fetches all Pokémon data and saves to a JSON file. \"\"\"\n",
    "    all_pokemon = {}\n",
    "    for pokemon_id in range(1, 1026):\n",
    "        try:\n",
    "            pokemon = pb.pokemon(pokemon_id)\n",
    "            all_pokemon[pokemon.name] = {\n",
    "                'name': pokemon.name,\n",
    "                'stats': {stat.stat.name: stat.base_stat for stat in pokemon.stats}\n",
    "            }\n",
    "        except Exception as e:\n",
    "            logging.error(f\"Failed to fetch Pokémon ID {pokemon_id}: {e}\")\n",
    "            continue\n",
    "    with open(data_path, 'w') as f:\n",
    "        json.dump(all_pokemon, f, indent=4)\n",
    "    logging.info(f\"Fetched data for {len(all_pokemon)} Pokémon.\")\n",
    "    return all_pokemon\n",
    "\n",
    "def load_pokemon_data(data_path):\n",
    "    \"\"\" Loads Pokémon data from a file or fetches it if the file doesn't exist. \"\"\"\n",
    "    if not os.path.exists(data_path):\n",
    "        print(\"Pokemon data file not found, fetching data...\")\n",
    "        return fetch_all_pokemon(data_path)\n",
    "    else:\n",
    "        print(\"Loading pokemon data from file...\")\n",
    "        with open(data_path, 'r') as f:\n",
    "            return json.load(f)\n",
    "\n",
    "def get_random_pokemon(pokemon_data):\n",
    "    \"\"\" Returns a random Pokémon from the loaded data. \"\"\"\n",
    "    return random.choice(list(pokemon_data.values()))\n",
    "\n",
    "def setup_toolbox(pokemon_data, selection_type, tournament_size=3):\n",
    "    \"\"\" Configures the DEAP toolbox with genetic algorithm operators and selection strategy. \"\"\"\n",
    "    toolbox = base.Toolbox()\n",
    "    pool = Pool()\n",
    "    toolbox.register(\"map\", pool.map)\n",
    "    toolbox.register(\"attr_pokemon\", get_random_pokemon, pokemon_data)\n",
    "    toolbox.register(\"individual\", tools.initRepeat, creator.Individual, toolbox.attr_pokemon, 3)\n",
    "    toolbox.register(\"population\", tools.initRepeat, list, toolbox.individual)\n",
    "    toolbox.register(\"mate\", tools.cxTwoPoint)\n",
    "    toolbox.register(\"mutate\", tools.mutShuffleIndexes, indpb=0.05)\n",
    "\n",
    "    if selection_type == \"tournament\":\n",
    "        toolbox.register(\"select\", tools.selTournament, tournsize=tournament_size)\n",
    "    elif selection_type == \"roulette\":\n",
    "        toolbox.register(\"select\", tools.selRoulette)\n",
    "    elif selection_type == \"rank\":\n",
    "        toolbox.register(\"select\", tools.selBest)\n",
    "\n",
    "    return toolbox\n",
    "\n",
    "def eval_team(individual, opponent_team):\n",
    "    \"\"\" Evaluates a team of Pokémon against an opponent team. \"\"\"\n",
    "    score = 0\n",
    "    for pokemon in individual:\n",
    "        for opponent in opponent_team:\n",
    "            score += sum(pokemon['stats'][stat] > opponent['stats'][stat] for stat in pokemon['stats'])\n",
    "    return (score,)\n",
    "\n",
    "def run_simulation(ga_config, pokemon_data, toolbox, elitism=False):\n",
    "    \"\"\" Simulates a genetic algorithm to evolve Pokémon teams, with optional elitism. \"\"\"\n",
    "    number_of_generations = ga_config['number_of_generations']\n",
    "    population_size = ga_config['population_size']\n",
    "    cxpb = ga_config['cxpb']\n",
    "    mutpb = ga_config['mutpb']\n",
    "    results = np.zeros(number_of_generations)\n",
    "    \n",
    "    # Create a population\n",
    "    population = toolbox.population(n=population_size)\n",
    "    \n",
    "    # Setup evaluation function before using it\n",
    "    player1_team = [get_random_pokemon(pokemon_data) for _ in range(3)]\n",
    "    toolbox.register(\"evaluate\", eval_team, opponent_team=player1_team)\n",
    "\n",
    "    # Evaluate the entire population\n",
    "    fitnesses = map(toolbox.evaluate, population)\n",
    "    for ind, fit in zip(population, fitnesses):\n",
    "        ind.fitness.values = fit\n",
    "    \n",
    "    for gen in range(number_of_generations):\n",
    "        # Select the next generation individuals\n",
    "        offspring = toolbox.select(population, len(population))\n",
    "        offspring = list(map(toolbox.clone, offspring))\n",
    "\n",
    "        # Apply crossover and mutation on the offspring\n",
    "        for child1, child2 in zip(offspring[::2], offspring[1::2]):\n",
    "            if random.random() < cxpb:\n",
    "                toolbox.mate(child1, child2)\n",
    "                del child1.fitness.values\n",
    "                del child2.fitness.values\n",
    "\n",
    "        for mutant in offspring:\n",
    "            if random.random() < mutpb:\n",
    "                toolbox.mutate(mutant)\n",
    "                del mutant.fitness.values\n",
    "\n",
    "        # Evaluate the individuals with an invalid fitness\n",
    "        invalid_ind = [ind for ind in offspring if not ind.fitness.valid]\n",
    "        fitnesses = map(toolbox.evaluate, invalid_ind)\n",
    "        for ind, fit in zip(invalid_ind, fitnesses):\n",
    "            ind.fitness.values = fit\n",
    "\n",
    "        # Apply elitism\n",
    "        if elitism:\n",
    "            elite = sorted(population, key=lambda x: x.fitness.values[0], reverse=True)[:2]\n",
    "            offspring.extend(elite)\n",
    "\n",
    "        population[:] = offspring\n",
    "        results[gen] = max(ind.fitness.values[0] for ind in population)\n",
    "\n",
    "    return results\n",
    "\n",
    "def plot_results(ga_runs, ga_configurations):\n",
    "    \"\"\" Plots the results of the genetic algorithm runs. \"\"\"\n",
    "    plt.figure(figsize=(10, 5))\n",
    "    colors = ['red', 'green', 'blue']\n",
    "    labels = list(ga_configurations.keys())\n",
    "    for i, config in enumerate(ga_configurations):\n",
    "        results = ga_runs[config]\n",
    "        if results.ndim == 1:\n",
    "            results = results.reshape(1, -1)\n",
    "        mean_fitness = np.mean(results, axis=0)\n",
    "        std_fitness = np.std(results, axis=0)\n",
    "        generations = np.arange(1, mean_fitness.size + 1)\n",
    "        plt.errorbar(generations, mean_fitness, yerr=std_fitness, fmt='o-', color=colors[i], label=labels[i], ecolor='gray', capsize=3)\n",
    "    plt.title('Best Fitness Values Across Generations')\n",
    "    plt.xlabel('Generations')\n",
    "    plt.ylabel('Fitness')\n",
    "    plt.legend()\n",
    "    plt.grid(True)\n",
    "    plt.show()\n",
    "    \n",
    "def execute_ga(run_settings_dict, data_path):\n",
    "    initialize_deap()\n",
    "    pokemon_data = load_pokemon_data(data_path)\n",
    "    toolbox = setup_toolbox(pokemon_data, run_settings_dict[\"selection_strategy\"], tournament_size=run_settings_dict[\"tournament_size\"])\n",
    "\n",
    "    ga_runs = {config: run_simulation(run_settings_dict[\"ga_configurations\"][config], pokemon_data, toolbox, run_settings_dict[\"use_elitism\"]) for config in run_settings_dict[\"ga_configurations\"]}\n",
    "    plot_results(ga_runs, run_settings_dict[\"ga_configurations\"])\n"
   ]
  },
  {
   "cell_type": "markdown",
   "metadata": {},
   "source": [
    "# Execute the code"
   ]
  },
  {
   "cell_type": "code",
   "execution_count": null,
   "metadata": {},
   "outputs": [],
   "source": [
    "def main():\n",
    "    # Change this to use path settings, otherwise default\n",
    "    \n",
    "    data_path = \"/home/jovyan/Data/pokemon_data.json\"\n",
    "    run_settings_path = \"/home/jovyan/Settings/run_settings.json\"\n",
    "    \n",
    "    with open(run_settings_path, 'r') as f:\n",
    "        run_settings_dict = json.load(f)\n",
    "    \n",
    "    # Use parrallel for runs\n",
    "    for run, settings in run_settings_dict.items():\n",
    "        print(\"@@@@@@@@@@@@@@@@@@@\")\n",
    "        print(f\"    Run: {run}    \")\n",
    "        print(\"@@@@@@@@@@@@@@@@@@@\")\n",
    "        execute_ga(settings, data_path)\n",
    "    \n",
    "if __name__ == \"__main__\":\n",
    "    main()"
   ]
  },
  {
   "cell_type": "code",
   "execution_count": null,
   "metadata": {},
   "outputs": [],
   "source": [
    "!pwd"
   ]
  }
 ],
 "metadata": {
  "kernelspec": {
   "display_name": "Python 3 (ipykernel)",
   "language": "python",
   "name": "python3"
  },
  "language_info": {
   "codemirror_mode": {
    "name": "ipython",
    "version": 3
   },
   "file_extension": ".py",
   "mimetype": "text/x-python",
   "name": "python",
   "nbconvert_exporter": "python",
   "pygments_lexer": "ipython3",
   "version": "3.11.7"
  }
 },
 "nbformat": 4,
 "nbformat_minor": 2
}
